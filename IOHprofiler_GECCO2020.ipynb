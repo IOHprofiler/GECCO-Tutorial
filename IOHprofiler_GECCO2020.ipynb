{
  "nbformat": 4,
  "nbformat_minor": 0,
  "metadata": {
    "kernelspec": {
      "display_name": "Python 3",
      "language": "python",
      "name": "python3"
    },
    "language_info": {
      "codemirror_mode": {
        "name": "ipython",
        "version": 3
      },
      "file_extension": ".py",
      "mimetype": "text/x-python",
      "name": "python",
      "nbconvert_exporter": "python",
      "pygments_lexer": "ipython3",
      "version": "3.6.9"
    },
    "colab": {
      "name": "IOHprofiler-GECCO2020.ipynb",
      "provenance": [],
      "collapsed_sections": [],
      "toc_visible": true
    }
  },
  "cells": [
    {
      "cell_type": "markdown",
      "metadata": {
        "id": "-53-PF4qBMFH",
        "colab_type": "text"
      },
      "source": [
        "# IOHprofiler Hands-on Session - GECCO '20\n",
        "\n",
        "[Hao Wang](https://www.lip6.fr/actualite/personnes-fiche.php?ident=D2381), [Diederick Vermetten](https://www.universiteitleiden.nl/en/staffmembers/diederick-vermetten), [Carola Doerr](https://webia.lip6.fr/~doerr/), [Ofer M. Shir](https://ofersh.github.io/telhai/), and [Thomas Bäck](https://www.universiteitleiden.nl/en/staffmembers/thomas-back)\n",
        "\n",
        "<br>\n",
        "\n",
        "\n",
        "The plan is to guide you through the basica usage of **IOHexperimenter** and **IOHanalyzer**."
      ]
    },
    {
      "cell_type": "markdown",
      "metadata": {
        "id": "4z2X-WeeF3Nn",
        "colab_type": "text"
      },
      "source": [
        "## General Information\n",
        "\n",
        "* __Wiki page__: [https://iohprofiler.github.io](https://iohprofiler.github.io)\n",
        "* __General Documentation__: [https://arxiv.org/abs/1810.05281](https://arxiv.org/abs/1810.05281)\n",
        "* __IOHanalyzer Documentation__: [https://arxiv.org/abs/2007.03953](https://arxiv.org/abs/2007.03953)\n",
        "* __IOHanalyzer Online Service__: [http://iohprofiler.liacs.nl](http://iohprofiler.liacs.nl)"
      ]
    },
    {
      "cell_type": "markdown",
      "metadata": {
        "id": "2D2oIbfDF8Z5",
        "colab_type": "text"
      },
      "source": [
        "## Part-I: **IOHexperimenter** (Python Interface)"
      ]
    },
    {
      "cell_type": "markdown",
      "metadata": {
        "id": "b08lVuG0CDNq",
        "colab_type": "text"
      },
      "source": [
        "To get started, we need to install the `IOHexperimenter` package from `pip` (you only need to run the cell below only once): "
      ]
    },
    {
      "cell_type": "code",
      "metadata": {
        "id": "pDbCkjopB2h7",
        "colab_type": "code",
        "colab": {
          "base_uri": "https://localhost:8080/",
          "height": 122
        },
        "outputId": "6254203e-6549-4d60-fbb3-d721eeb24988"
      },
      "source": [
        "!pip install IOHexperimenter\n",
        "!rm -rf data/"
      ],
      "execution_count": null,
      "outputs": [
        {
          "output_type": "stream",
          "text": [
            "Collecting IOHexperimenter\n",
            "\u001b[?25l  Downloading https://files.pythonhosted.org/packages/d1/8f/d302d166bd8bb8476885e8b41806efaf04b35e88bb48a5d4a4ebcabb115f/IOHexperimenter-0.2.2-py3-none-any.whl (1.0MB)\n",
            "\r\u001b[K     |▎                               | 10kB 15.5MB/s eta 0:00:01\r\u001b[K     |▋                               | 20kB 6.0MB/s eta 0:00:01\r\u001b[K     |█                               | 30kB 6.3MB/s eta 0:00:01\r\u001b[K     |█▎                              | 40kB 5.7MB/s eta 0:00:01\r\u001b[K     |█▋                              | 51kB 4.9MB/s eta 0:00:01\r\u001b[K     |██                              | 61kB 4.6MB/s eta 0:00:01\r\u001b[K     |██▏                             | 71kB 4.8MB/s eta 0:00:01\r\u001b[K     |██▌                             | 81kB 4.9MB/s eta 0:00:01\r\u001b[K     |██▉                             | 92kB 4.7MB/s eta 0:00:01\r\u001b[K     |███▏                            | 102kB 4.8MB/s eta 0:00:01\r\u001b[K     |███▌                            | 112kB 4.8MB/s eta 0:00:01\r\u001b[K     |███▉                            | 122kB 4.8MB/s eta 0:00:01\r\u001b[K     |████                            | 133kB 4.8MB/s eta 0:00:01\r\u001b[K     |████▍                           | 143kB 4.8MB/s eta 0:00:01\r\u001b[K     |████▊                           | 153kB 4.8MB/s eta 0:00:01\r\u001b[K     |█████                           | 163kB 4.8MB/s eta 0:00:01\r\u001b[K     |█████▍                          | 174kB 4.8MB/s eta 0:00:01\r\u001b[K     |█████▊                          | 184kB 4.8MB/s eta 0:00:01\r\u001b[K     |██████                          | 194kB 4.8MB/s eta 0:00:01\r\u001b[K     |██████▎                         | 204kB 4.8MB/s eta 0:00:01\r\u001b[K     |██████▋                         | 215kB 4.8MB/s eta 0:00:01\r\u001b[K     |███████                         | 225kB 4.8MB/s eta 0:00:01\r\u001b[K     |███████▎                        | 235kB 4.8MB/s eta 0:00:01\r\u001b[K     |███████▋                        | 245kB 4.8MB/s eta 0:00:01\r\u001b[K     |███████▉                        | 256kB 4.8MB/s eta 0:00:01\r\u001b[K     |████████▏                       | 266kB 4.8MB/s eta 0:00:01\r\u001b[K     |████████▌                       | 276kB 4.8MB/s eta 0:00:01\r\u001b[K     |████████▉                       | 286kB 4.8MB/s eta 0:00:01\r\u001b[K     |█████████▏                      | 296kB 4.8MB/s eta 0:00:01\r\u001b[K     |█████████▌                      | 307kB 4.8MB/s eta 0:00:01\r\u001b[K     |█████████▊                      | 317kB 4.8MB/s eta 0:00:01\r\u001b[K     |██████████                      | 327kB 4.8MB/s eta 0:00:01\r\u001b[K     |██████████▍                     | 337kB 4.8MB/s eta 0:00:01\r\u001b[K     |██████████▊                     | 348kB 4.8MB/s eta 0:00:01\r\u001b[K     |███████████                     | 358kB 4.8MB/s eta 0:00:01\r\u001b[K     |███████████▍                    | 368kB 4.8MB/s eta 0:00:01\r\u001b[K     |███████████▊                    | 378kB 4.8MB/s eta 0:00:01\r\u001b[K     |████████████                    | 389kB 4.8MB/s eta 0:00:01\r\u001b[K     |████████████▎                   | 399kB 4.8MB/s eta 0:00:01\r\u001b[K     |████████████▋                   | 409kB 4.8MB/s eta 0:00:01\r\u001b[K     |█████████████                   | 419kB 4.8MB/s eta 0:00:01\r\u001b[K     |█████████████▎                  | 430kB 4.8MB/s eta 0:00:01\r\u001b[K     |█████████████▋                  | 440kB 4.8MB/s eta 0:00:01\r\u001b[K     |█████████████▉                  | 450kB 4.8MB/s eta 0:00:01\r\u001b[K     |██████████████▏                 | 460kB 4.8MB/s eta 0:00:01\r\u001b[K     |██████████████▌                 | 471kB 4.8MB/s eta 0:00:01\r\u001b[K     |██████████████▉                 | 481kB 4.8MB/s eta 0:00:01\r\u001b[K     |███████████████▏                | 491kB 4.8MB/s eta 0:00:01\r\u001b[K     |███████████████▌                | 501kB 4.8MB/s eta 0:00:01\r\u001b[K     |███████████████▊                | 512kB 4.8MB/s eta 0:00:01\r\u001b[K     |████████████████                | 522kB 4.8MB/s eta 0:00:01\r\u001b[K     |████████████████▍               | 532kB 4.8MB/s eta 0:00:01\r\u001b[K     |████████████████▊               | 542kB 4.8MB/s eta 0:00:01\r\u001b[K     |█████████████████               | 552kB 4.8MB/s eta 0:00:01\r\u001b[K     |█████████████████▍              | 563kB 4.8MB/s eta 0:00:01\r\u001b[K     |█████████████████▋              | 573kB 4.8MB/s eta 0:00:01\r\u001b[K     |██████████████████              | 583kB 4.8MB/s eta 0:00:01\r\u001b[K     |██████████████████▎             | 593kB 4.8MB/s eta 0:00:01\r\u001b[K     |██████████████████▋             | 604kB 4.8MB/s eta 0:00:01\r\u001b[K     |███████████████████             | 614kB 4.8MB/s eta 0:00:01\r\u001b[K     |███████████████████▎            | 624kB 4.8MB/s eta 0:00:01\r\u001b[K     |███████████████████▌            | 634kB 4.8MB/s eta 0:00:01\r\u001b[K     |███████████████████▉            | 645kB 4.8MB/s eta 0:00:01\r\u001b[K     |████████████████████▏           | 655kB 4.8MB/s eta 0:00:01\r\u001b[K     |████████████████████▌           | 665kB 4.8MB/s eta 0:00:01\r\u001b[K     |████████████████████▉           | 675kB 4.8MB/s eta 0:00:01\r\u001b[K     |█████████████████████▏          | 686kB 4.8MB/s eta 0:00:01\r\u001b[K     |█████████████████████▌          | 696kB 4.8MB/s eta 0:00:01\r\u001b[K     |█████████████████████▊          | 706kB 4.8MB/s eta 0:00:01\r\u001b[K     |██████████████████████          | 716kB 4.8MB/s eta 0:00:01\r\u001b[K     |██████████████████████▍         | 727kB 4.8MB/s eta 0:00:01\r\u001b[K     |██████████████████████▊         | 737kB 4.8MB/s eta 0:00:01\r\u001b[K     |███████████████████████         | 747kB 4.8MB/s eta 0:00:01\r\u001b[K     |███████████████████████▍        | 757kB 4.8MB/s eta 0:00:01\r\u001b[K     |███████████████████████▋        | 768kB 4.8MB/s eta 0:00:01\r\u001b[K     |████████████████████████        | 778kB 4.8MB/s eta 0:00:01\r\u001b[K     |████████████████████████▎       | 788kB 4.8MB/s eta 0:00:01\r\u001b[K     |████████████████████████▋       | 798kB 4.8MB/s eta 0:00:01\r\u001b[K     |█████████████████████████       | 808kB 4.8MB/s eta 0:00:01\r\u001b[K     |█████████████████████████▎      | 819kB 4.8MB/s eta 0:00:01\r\u001b[K     |█████████████████████████▌      | 829kB 4.8MB/s eta 0:00:01\r\u001b[K     |█████████████████████████▉      | 839kB 4.8MB/s eta 0:00:01\r\u001b[K     |██████████████████████████▏     | 849kB 4.8MB/s eta 0:00:01\r\u001b[K     |██████████████████████████▌     | 860kB 4.8MB/s eta 0:00:01\r\u001b[K     |██████████████████████████▉     | 870kB 4.8MB/s eta 0:00:01\r\u001b[K     |███████████████████████████▏    | 880kB 4.8MB/s eta 0:00:01\r\u001b[K     |███████████████████████████▍    | 890kB 4.8MB/s eta 0:00:01\r\u001b[K     |███████████████████████████▊    | 901kB 4.8MB/s eta 0:00:01\r\u001b[K     |████████████████████████████    | 911kB 4.8MB/s eta 0:00:01\r\u001b[K     |████████████████████████████▍   | 921kB 4.8MB/s eta 0:00:01\r\u001b[K     |████████████████████████████▊   | 931kB 4.8MB/s eta 0:00:01\r\u001b[K     |█████████████████████████████   | 942kB 4.8MB/s eta 0:00:01\r\u001b[K     |█████████████████████████████▎  | 952kB 4.8MB/s eta 0:00:01\r\u001b[K     |█████████████████████████████▋  | 962kB 4.8MB/s eta 0:00:01\r\u001b[K     |██████████████████████████████  | 972kB 4.8MB/s eta 0:00:01\r\u001b[K     |██████████████████████████████▎ | 983kB 4.8MB/s eta 0:00:01\r\u001b[K     |██████████████████████████████▋ | 993kB 4.8MB/s eta 0:00:01\r\u001b[K     |███████████████████████████████ | 1.0MB 4.8MB/s eta 0:00:01\r\u001b[K     |███████████████████████████████▏| 1.0MB 4.8MB/s eta 0:00:01\r\u001b[K     |███████████████████████████████▌| 1.0MB 4.8MB/s eta 0:00:01\r\u001b[K     |███████████████████████████████▉| 1.0MB 4.8MB/s eta 0:00:01\r\u001b[K     |████████████████████████████████| 1.0MB 4.8MB/s \n",
            "\u001b[?25hInstalling collected packages: IOHexperimenter\n",
            "Successfully installed IOHexperimenter-0.2.2\n"
          ],
          "name": "stdout"
        }
      ]
    },
    {
      "cell_type": "markdown",
      "metadata": {
        "id": "tjWoLKIjDYwU",
        "colab_type": "text"
      },
      "source": [
        "Importing the package:\n"
      ]
    },
    {
      "cell_type": "code",
      "metadata": {
        "id": "7kUfanOxBJIG",
        "colab_type": "code",
        "colab": {}
      },
      "source": [
        "# Import the IOH_function class\n",
        "from IOHexperimenter import IOH_function"
      ],
      "execution_count": null,
      "outputs": []
    },
    {
      "cell_type": "markdown",
      "metadata": {
        "id": "d5zLmwLZDctp",
        "colab_type": "text"
      },
      "source": [
        "Checking the `docstring` of `IOH_function`:"
      ]
    },
    {
      "cell_type": "code",
      "metadata": {
        "id": "lKoFm0siBJIK",
        "colab_type": "code",
        "colab": {}
      },
      "source": [
        "# View docstring of IOH_function\n",
        "?IOH_function"
      ],
      "execution_count": null,
      "outputs": []
    },
    {
      "cell_type": "markdown",
      "metadata": {
        "id": "JXRbchk1Drao",
        "colab_type": "text"
      },
      "source": [
        "Yes, you could directly use the well-known [BBOB problem set](https://github.com/numbbo/coco):"
      ]
    },
    {
      "cell_type": "code",
      "metadata": {
        "id": "VrDhLQ4HBJIN",
        "colab_type": "code",
        "colab": {}
      },
      "source": [
        "# Create a function object, either by giving the function id from within the suite\n",
        "f = IOH_function(fid = 7, dim = 5, iid = 1, suite = 'BBOB')"
      ],
      "execution_count": null,
      "outputs": []
    },
    {
      "cell_type": "code",
      "metadata": {
        "id": "d6VBBMlWBJIQ",
        "colab_type": "code",
        "colab": {}
      },
      "source": [
        "# Or by giving the function name\n",
        "f2 = IOH_function(fid = \"Sphere\", dim = 5, iid = 1)"
      ],
      "execution_count": null,
      "outputs": []
    },
    {
      "cell_type": "code",
      "metadata": {
        "id": "5_8VICUFBJIS",
        "colab_type": "code",
        "colab": {
          "base_uri": "https://localhost:8080/",
          "height": 34
        },
        "outputId": "58a890ce-8443-49de-8f1e-f3f823cbb5aa"
      },
      "source": [
        "# Acces properties of the function\n",
        "f.number_of_variables"
      ],
      "execution_count": null,
      "outputs": [
        {
          "output_type": "execute_result",
          "data": {
            "text/plain": [
              "5"
            ]
          },
          "metadata": {
            "tags": []
          },
          "execution_count": 25
        }
      ]
    },
    {
      "cell_type": "markdown",
      "metadata": {
        "id": "jtehXyflEfCO",
        "colab_type": "text"
      },
      "source": [
        "The search domain is set to $[-5, 5]^d$ by default, as suggested in BBOB."
      ]
    },
    {
      "cell_type": "code",
      "metadata": {
        "id": "nBtN9IHdBJIV",
        "colab_type": "code",
        "colab": {
          "base_uri": "https://localhost:8080/",
          "height": 34
        },
        "outputId": "5d32b0e9-af6d-4a5d-8e29-dfb1549823f4"
      },
      "source": [
        "f.lowerbound, f.upperbound"
      ],
      "execution_count": null,
      "outputs": [
        {
          "output_type": "execute_result",
          "data": {
            "text/plain": [
              "(array([-5., -5., -5., -5., -5.]), array([5., 5., 5., 5., 5.]))"
            ]
          },
          "metadata": {
            "tags": []
          },
          "execution_count": 11
        }
      ]
    },
    {
      "cell_type": "code",
      "metadata": {
        "id": "lrgJpCzNBJIX",
        "colab_type": "code",
        "colab": {
          "base_uri": "https://localhost:8080/",
          "height": 34
        },
        "outputId": "97e83c11-7c4c-4a3c-fc59-acf397bcef72"
      },
      "source": [
        "f.final_target_hit"
      ],
      "execution_count": null,
      "outputs": [
        {
          "output_type": "execute_result",
          "data": {
            "text/plain": [
              "False"
            ]
          },
          "metadata": {
            "tags": []
          },
          "execution_count": 12
        }
      ]
    },
    {
      "cell_type": "code",
      "metadata": {
        "id": "frOHPKYABJIa",
        "colab_type": "code",
        "colab": {
          "base_uri": "https://localhost:8080/",
          "height": 34
        },
        "outputId": "c5fe50c0-f7ec-4d17-def7-0f707ed8462f"
      },
      "source": [
        "# Evaluate the origin...\n",
        "f([0,0,0,0,0])"
      ],
      "execution_count": null,
      "outputs": [
        {
          "output_type": "execute_result",
          "data": {
            "text/plain": [
              "106.05513987471636"
            ]
          },
          "metadata": {
            "tags": []
          },
          "execution_count": 13
        }
      ]
    },
    {
      "cell_type": "markdown",
      "metadata": {
        "id": "ZW7YOcR0BJId",
        "colab_type": "text"
      },
      "source": [
        "### Running an algorithm"
      ]
    },
    {
      "cell_type": "markdown",
      "metadata": {
        "id": "jMTyqvNuBJId",
        "colab_type": "text"
      },
      "source": [
        "A simple random-search example wich accepts an argument of class IOH_function."
      ]
    },
    {
      "cell_type": "code",
      "metadata": {
        "id": "HA8lmTQUBJIe",
        "colab_type": "code",
        "colab": {}
      },
      "source": [
        "import numpy as np"
      ],
      "execution_count": null,
      "outputs": []
    },
    {
      "cell_type": "code",
      "metadata": {
        "id": "CXiHNDs9BJIf",
        "colab_type": "code",
        "colab": {}
      },
      "source": [
        "def random_search(func, param_1 = None, budget = None):\n",
        "    if budget is None:\n",
        "        budget = int(func.number_of_variables * 1e4)\n",
        "\n",
        "    f_opt = np.Inf\n",
        "    x_opt = None\n",
        "\n",
        "    for i in range(budget):\n",
        "        # sampling a new point u.a.r. in the search domain\n",
        "        x = np.random.uniform(func.lowerbound, func.upperbound)\n",
        "        f = func(x)\n",
        "        if f < f_opt:\n",
        "            f_opt = f\n",
        "            x_opt = x\n",
        "    return f_opt, x_opt"
      ],
      "execution_count": null,
      "outputs": []
    },
    {
      "cell_type": "markdown",
      "metadata": {
        "id": "AQdvv1USBJIh",
        "colab_type": "text"
      },
      "source": [
        "To record data, we need to add a logger to the problem"
      ]
    },
    {
      "cell_type": "code",
      "metadata": {
        "id": "MAz0slJ4BJIi",
        "colab_type": "code",
        "colab": {}
      },
      "source": [
        "from IOHexperimenter import IOH_logger"
      ],
      "execution_count": null,
      "outputs": []
    },
    {
      "cell_type": "code",
      "metadata": {
        "id": "y-CjWkWfBJIk",
        "colab_type": "code",
        "colab": {}
      },
      "source": [
        "?IOH_logger"
      ],
      "execution_count": null,
      "outputs": []
    },
    {
      "cell_type": "code",
      "metadata": {
        "id": "Kays2wL6BJIm",
        "colab_type": "code",
        "colab": {}
      },
      "source": [
        "logger = IOH_logger(location = \"data\", foldername = \"run\", \n",
        "                    name = \"random_search\", \n",
        "                    info = \"test of IOHexperimenter in python\")"
      ],
      "execution_count": null,
      "outputs": []
    },
    {
      "cell_type": "markdown",
      "metadata": {
        "id": "NUKkK8atBJIo",
        "colab_type": "text"
      },
      "source": [
        "This can then be attached to the problem"
      ]
    },
    {
      "cell_type": "code",
      "metadata": {
        "id": "3e-dfnTsBJIo",
        "colab_type": "code",
        "colab": {}
      },
      "source": [
        "f.add_logger(logger)"
      ],
      "execution_count": null,
      "outputs": []
    },
    {
      "cell_type": "markdown",
      "metadata": {
        "id": "Gb4bK2aLBJIq",
        "colab_type": "text"
      },
      "source": [
        "Now, we can run the algorithm and store data:"
      ]
    },
    {
      "cell_type": "code",
      "metadata": {
        "id": "eiUJgKcjBJIr",
        "colab_type": "code",
        "colab": {
          "base_uri": "https://localhost:8080/",
          "height": 51
        },
        "outputId": "4af9c125-c2e7-4880-c71b-228f6f6f783e"
      },
      "source": [
        "random_search(f)"
      ],
      "execution_count": null,
      "outputs": [
        {
          "output_type": "execute_result",
          "data": {
            "text/plain": [
              "(94.15646842857485,\n",
              " array([-0.26558154,  0.74860565,  0.35503907,  4.24473928,  3.21339203]))"
            ]
          },
          "metadata": {
            "tags": []
          },
          "execution_count": 68
        }
      ]
    },
    {
      "cell_type": "markdown",
      "metadata": {
        "id": "iRI2_XT4BJIt",
        "colab_type": "text"
      },
      "source": [
        "To ensure all data is written, we should clear the logger after running our experiments:"
      ]
    },
    {
      "cell_type": "code",
      "metadata": {
        "id": "WchH8wJJBJIt",
        "colab_type": "code",
        "colab": {}
      },
      "source": [
        "f.clear_logger()"
      ],
      "execution_count": null,
      "outputs": []
    },
    {
      "cell_type": "markdown",
      "metadata": {
        "id": "K03AnQU4IdpI",
        "colab_type": "text"
      },
      "source": [
        "And our benchmark data is already in place:"
      ]
    },
    {
      "cell_type": "code",
      "metadata": {
        "id": "Cqw3U4ssISCL",
        "colab_type": "code",
        "colab": {
          "base_uri": "https://localhost:8080/",
          "height": 377
        },
        "outputId": "8aa6d39a-6bd7-4483-aefb-ead541b3dc0c"
      },
      "source": [
        "!ls -lha data/\n",
        "!echo\n",
        "!cat data/run/IOHprofiler_f7_Step_Ellipsoid.info\n",
        "!echo\n",
        "!echo\n",
        "!head -n 10 data/run/data_f7_Step_Ellipsoid/IOHprofiler_f7_DIM5.dat"
      ],
      "execution_count": null,
      "outputs": [
        {
          "output_type": "stream",
          "text": [
            "total 20K\n",
            "drwxr-xr-x 1 root root 4.0K Jul  9 11:05 .\n",
            "drwxr-xr-x 1 root root 4.0K Jul  9 09:53 ..\n",
            "drwxr-xr-x 1 root root 4.0K Jun 26 16:26 .config\n",
            "drwxr-xr-x 3 root root 4.0K Jul  9 11:05 data\n",
            "drwxr-xr-x 1 root root 4.0K Jun 26 16:26 sample_data\n",
            "\n",
            "suite = \"No suite\", funcId = 7, funcName = \"Step_Ellipsoid\", DIM = 5, maximization = \"F\", algId = \"random_search\", algInfo = \"test of IOHexperimenter in python\"\n",
            "%\n",
            "data_f7_Step_Ellipsoid/IOHprofiler_f7_DIM5.dat, 1:35673|1.21647\n",
            "\"function evaluation\" \"current f(x)\" \"best-so-far f(x)\" \"current af(x)+b\"  \"best af(x)+b\"\n",
            "1 766.466 766.466 859.406 859.406\n",
            "2 239.636 239.636 332.576 332.576\n",
            "10 204.033 204.033 296.973 296.973\n",
            "13 191.236 191.236 284.176 284.176\n",
            "19 57.1758 57.1758 150.116 150.116\n",
            "37 22.4291 22.4291 115.369 115.369\n",
            "513 13.9905 13.9905 106.931 106.931\n",
            "876 10.713 10.713 103.653 103.653\n",
            "1161 9.56859 9.56859 102.509 102.509\n"
          ],
          "name": "stdout"
        }
      ]
    },
    {
      "cell_type": "markdown",
      "metadata": {
        "id": "PqI3CyRpKeck",
        "colab_type": "text"
      },
      "source": [
        "### Tracking Dynamic Parameters"
      ]
    },
    {
      "cell_type": "markdown",
      "metadata": {
        "id": "a5cZ3FRUBJIw",
        "colab_type": "text"
      },
      "source": [
        "If we want to track parameters of the algorithm, we need to slightly restructure it by turning it into a class, where the variables we want totrack are properties thereof:"
      ]
    },
    {
      "cell_type": "code",
      "metadata": {
        "id": "qMcKbEoRBJIw",
        "colab_type": "code",
        "colab": {}
      },
      "source": [
        "class random_search_class(object):\n",
        "    def __init__(self, budget):\n",
        "        self.budget = int(budget)\n",
        "        self.f_opt = np.Inf\n",
        "        self.x_opt = None\n",
        "\n",
        "    def __call__(self, func):\n",
        "        for i in range(self.budget):\n",
        "            x = np.random.uniform(func.lowerbound, func.upperbound)\n",
        "            f = func(x)\n",
        "            if f < self.f_opt:\n",
        "                self.f_opt = f\n",
        "                self.x_opt = x\n",
        "        return self.f_opt, self.x_opt\n",
        "    \n",
        "    # A mockup internal parameter to track\n",
        "    @property\n",
        "    def param_rate(self):\n",
        "        return np.random.randint(100)\n",
        "\n",
        "\n",
        "# create the optimizer object\n",
        "opt = random_search_class(1e4)"
      ],
      "execution_count": null,
      "outputs": []
    },
    {
      "cell_type": "markdown",
      "metadata": {
        "id": "Gl0Xlf2cBJIy",
        "colab_type": "text"
      },
      "source": [
        "We could then use the function `logger.track_parameters` of the logger to register the parameter to be tracked"
      ]
    },
    {
      "cell_type": "code",
      "metadata": {
        "id": "E5SiSqgJNes1",
        "colab_type": "code",
        "colab": {}
      },
      "source": [
        "logger = IOH_logger(location = \"data\", foldername = \"parameter-tracking\", \n",
        "                    name = \"random_search\", \n",
        "                    info = \"test of IOHexperimenter in python\")\n",
        "\n",
        "logger.track_parameters(algorithm = opt, parameters = 'param_rate')\n",
        "f.add_logger(logger) # IMPORTANT! don't forget to attach the logger to the test function again.."
      ],
      "execution_count": null,
      "outputs": []
    },
    {
      "cell_type": "code",
      "metadata": {
        "id": "b41UXvWGPKOJ",
        "colab_type": "code",
        "colab": {}
      },
      "source": [
        "opt(f)\n",
        "f.clear_logger()  # Remember to flush the data to files.."
      ],
      "execution_count": null,
      "outputs": []
    },
    {
      "cell_type": "markdown",
      "metadata": {
        "id": "iGSZgKQMRI6b",
        "colab_type": "text"
      },
      "source": [
        "You could see now there is an extra column \"`param_rate`\" in the raw data file."
      ]
    },
    {
      "cell_type": "code",
      "metadata": {
        "id": "FRwG80kUPWId",
        "colab_type": "code",
        "colab": {
          "base_uri": "https://localhost:8080/",
          "height": 377
        },
        "outputId": "5351b490-f073-4dcc-daff-ae4e19742fbe"
      },
      "source": [
        "!ls -lha data/\n",
        "!echo\n",
        "!cat data/parameter-tracking/IOHprofiler_f7_Step_Ellipsoid.info\n",
        "!echo\n",
        "!echo\n",
        "!head -n 10 data/parameter-tracking/data_f7_Step_Ellipsoid/IOHprofiler_f7_DIM5.dat"
      ],
      "execution_count": null,
      "outputs": [
        {
          "output_type": "stream",
          "text": [
            "total 16K\n",
            "drwxr-xr-x 4 root root 4.0K Jul  9 11:09 .\n",
            "drwxr-xr-x 1 root root 4.0K Jul  9 11:05 ..\n",
            "drwx------ 3 root root 4.0K Jul  9 11:09 parameter-tracking\n",
            "drwx------ 3 root root 4.0K Jul  9 11:05 run\n",
            "\n",
            "suite = \"No suite\", funcId = 7, funcName = \"Step_Ellipsoid\", DIM = 5, maximization = \"F\", algId = \"random_search\", algInfo = \"test of IOHexperimenter in python\"\n",
            "%\n",
            "data_f7_Step_Ellipsoid/IOHprofiler_f7_DIM5.dat, 1:58121|2.5681\n",
            "\n",
            "\"function evaluation\" \"current f(x)\" \"best-so-far f(x)\" \"current af(x)+b\"  \"best af(x)+b\" \"param_rate\"\n",
            "50001 461.376 1.21647 554.316 94.1565 64\n",
            "50002 314.185 1.21647 407.125 94.1565 11\n",
            "50006 78.779 1.21647 171.719 94.1565 60\n",
            "50015 62.6312 1.21647 155.571 94.1565 78\n",
            "50030 46.4346 1.21647 139.375 94.1565 7\n",
            "50031 42.1045 1.21647 135.044 94.1565 85\n",
            "50087 19.5027 1.21647 112.443 94.1565 88\n",
            "50307 15.152 1.21647 108.092 94.1565 73\n",
            "51030 9.98858 1.21647 102.929 94.1565 48\n"
          ],
          "name": "stdout"
        }
      ]
    },
    {
      "cell_type": "code",
      "metadata": {
        "id": "XbJAkXKQBJIz",
        "colab_type": "code",
        "colab": {}
      },
      "source": [
        "# it is always good to check the docstring...\n",
        "?logger.track_parameters"
      ],
      "execution_count": null,
      "outputs": []
    },
    {
      "cell_type": "markdown",
      "metadata": {
        "id": "tPRueE_QOD2C",
        "colab_type": "text"
      },
      "source": [
        "### Using the `IOHexperimenter` object"
      ]
    },
    {
      "cell_type": "markdown",
      "metadata": {
        "id": "Hkf4crYCBJI0",
        "colab_type": "text"
      },
      "source": [
        "Alternatively, we can use the `IOHexperimenter` class to easily run the benchmarking in multiple functions, and to specify which parameters to track."
      ]
    },
    {
      "cell_type": "code",
      "metadata": {
        "id": "m3vTUnr9BJI1",
        "colab_type": "code",
        "colab": {}
      },
      "source": [
        "from IOHexperimenter import IOHexperimenter"
      ],
      "execution_count": null,
      "outputs": []
    },
    {
      "cell_type": "code",
      "metadata": {
        "id": "qRiyVIbqBJI3",
        "colab_type": "code",
        "colab": {}
      },
      "source": [
        "?IOHexperimenter"
      ],
      "execution_count": null,
      "outputs": []
    },
    {
      "cell_type": "markdown",
      "metadata": {
        "id": "M2iPgDWQBJI4",
        "colab_type": "text"
      },
      "source": [
        "This can be initialized to a suite (`PBO` or `BBOB` are available) by providing lists of function ids (or names), dimensions, instance ids, and a number of independent repetitions as follows:"
      ]
    },
    {
      "cell_type": "code",
      "metadata": {
        "id": "rDxYYMrSBJI5",
        "colab_type": "code",
        "colab": {}
      },
      "source": [
        "exp = IOHexperimenter()\n",
        "exp.initialize_BBOB(fids = [1,2], dims = [5], iids = [1,2], repetitions = 2)"
      ],
      "execution_count": null,
      "outputs": []
    },
    {
      "cell_type": "markdown",
      "metadata": {
        "id": "lTzMAvKTBJI7",
        "colab_type": "text"
      },
      "source": [
        "There is also the option to provide a set of standard `python` functions to the experimenter object:"
      ]
    },
    {
      "cell_type": "code",
      "metadata": {
        "id": "b5KFFx01BJI7",
        "colab_type": "code",
        "colab": {}
      },
      "source": [
        "?exp.initialize_custom"
      ],
      "execution_count": null,
      "outputs": []
    },
    {
      "cell_type": "markdown",
      "metadata": {
        "id": "wonQuLHjBJI9",
        "colab_type": "text"
      },
      "source": [
        "For now, we stick with the BBOB suite. We can set up the logging as follows:"
      ]
    },
    {
      "cell_type": "code",
      "metadata": {
        "id": "Qo8qhFOoBJJA",
        "colab_type": "code",
        "colab": {}
      },
      "source": [
        "exp.set_logger_location(location = \"data_test\", foldername = \"run\")"
      ],
      "execution_count": null,
      "outputs": []
    },
    {
      "cell_type": "markdown",
      "metadata": {
        "id": "df5L5AZHBJJE",
        "colab_type": "text"
      },
      "source": [
        "The algorithm we want to run has property `param_rate`, so we can enable the tracking using the function below:"
      ]
    },
    {
      "cell_type": "code",
      "metadata": {
        "id": "d5HpbLBHBJJE",
        "colab_type": "code",
        "colab": {}
      },
      "source": [
        "exp.set_parameter_tracking(\"param_rate\")"
      ],
      "execution_count": null,
      "outputs": []
    },
    {
      "cell_type": "code",
      "metadata": {
        "id": "A88nZK4oBJJC",
        "colab_type": "code",
        "colab": {}
      },
      "source": [
        "# it is always good to check the docstring...\n",
        "?exp.set_parameter_tracking"
      ],
      "execution_count": null,
      "outputs": []
    },
    {
      "cell_type": "markdown",
      "metadata": {
        "id": "oPBOA7b5BJJG",
        "colab_type": "text"
      },
      "source": [
        "We can parallel the experimentation if the sequential execution is taking way too long.."
      ]
    },
    {
      "cell_type": "code",
      "metadata": {
        "id": "JJC509EABJJG",
        "colab_type": "code",
        "colab": {}
      },
      "source": [
        "?exp.set_parallel"
      ],
      "execution_count": null,
      "outputs": []
    },
    {
      "cell_type": "markdown",
      "metadata": {
        "id": "rvWA0UVTSWT4",
        "colab_type": "text"
      },
      "source": [
        "The data storage settings are also customizable:"
      ]
    },
    {
      "cell_type": "code",
      "metadata": {
        "id": "cGjKYJZKBJJJ",
        "colab_type": "code",
        "colab": {}
      },
      "source": [
        "?exp.set_logger_options"
      ],
      "execution_count": null,
      "outputs": []
    },
    {
      "cell_type": "markdown",
      "metadata": {
        "id": "AILU3_5CBJJL",
        "colab_type": "text"
      },
      "source": [
        "Finally, we can run the experiment by simply providing the experimenter object with a list of algorithms to run"
      ]
    },
    {
      "cell_type": "code",
      "metadata": {
        "id": "A12Neb42BJJL",
        "colab_type": "code",
        "colab": {},
        "outputId": "009f4c16-c037-42f0-e0e7-578b2406e514"
      },
      "source": [
        "# just a mockup code. In reality, of course you want to add multiple different algorithms..\n",
        "exp([opt(1000)] * 2)"
      ],
      "execution_count": null,
      "outputs": [
        {
          "output_type": "stream",
          "text": [
            "Running single-threaded\n",
            "1 1000 0.00015138508252931606\n",
            "1 1000 1.9075929859439873e-06\n",
            "1 1000 0.0406816466179649\n",
            "1 1000 0.038245274507711306\n",
            "2 1000 6.346088751509518e-07\n",
            "2 1000 6.32270121217581e-06\n",
            "2 1000 6.800983388507359\n",
            "2 1000 4.8374851495284235\n"
          ],
          "name": "stdout"
        },
        {
          "output_type": "execute_result",
          "data": {
            "text/plain": [
              "[None, None, None, None]"
            ]
          },
          "metadata": {
            "tags": []
          },
          "execution_count": 29
        }
      ]
    },
    {
      "cell_type": "markdown",
      "metadata": {
        "id": "O9CoQfuhToEw",
        "colab_type": "text"
      },
      "source": [
        "## Part-II: **IOHanalyzer** Hands-on"
      ]
    },
    {
      "cell_type": "markdown",
      "metadata": {
        "id": "n3UdNWWmUBAF",
        "colab_type": "text"
      },
      "source": [
        "We have to options to use the analyzer: \n",
        "\n",
        "* to use the online serive directly: [http://35.241.182.66](http://35.241.182.66) (the data sets are going to use is already uploaded here), which is hosted on Google Cloud exclusively for this session (you do not recommend to visit [http://iohprofiler.liacs.nl/](http://iohprofiler.liacs.nl/) since this is hosted mererly on a single-CPU machine..)\n",
        "* to install it locally on your machine:\n",
        "  1. You need to install `R` first. Please download the correct installation file accorinding to your operating system (Windows, MacOS, Linux..):   [https://cran.r-project.org/](https://cran.r-project.org/)\n",
        "  2. After installation, please start a `R` console and install the IOHanalzyer package by: \n",
        "  ```{r, eval = FALSE}\n",
        "  R> install.packages('IOHanalzyer')\n",
        "  ```\n",
        "  3.Then you could start the GUI (grahical user interface) using the following command (a new tab should be open in your browser automatiocally):\n",
        "  ```{r, eval = FALSE}\n",
        "  R> runServer()\n",
        "  ```\n",
        "  4. For the hands-on session, some example data sets can be downloaded from here: [https://github.com/IOHprofiler/IOHdata](https://github.com/IOHprofiler/IOHdata). Please create the folder called `repository` (`~/repository` on Linux and MacOS and `C:\\Users\\username\\repository`) in your home directory and unbzip the data set into it (IOHanalyzer will scan this folder later).\n",
        "  \n",
        "### Exemplary Usage\n",
        "\n",
        "Throughout this exercise, a data set called `2019gecco-ins1-11run` will be used and is already hosted for the online version. For the local usage, it can be downloaded from [(https://github.com/IOHprofiler/IOHdata](https://github.com/IOHprofiler/IOHdata):\n",
        "\n",
        "1. Please navigate to the **Data Upload** section and select the required data set in **Load Data from Repository** box. \n",
        "\n",
        "2. Now please navigate thought **Fixed-Target Results** $\\rightarrow$ **Single Function** $\\rightarrow$ **Data Summary**. Please try to figure out the following question using the table provided in this subsection:\n",
        "\n",
        "    * What is the largest observed budget value across all algorithms in $625$D on function $f1$?\n",
        "    * For $625$D and function $f19$, what is the number of runs that algorithm $(1+1) \\text{ EA}_{>0}$ hits its best function value?\n",
        "    * For $64$D and function $f21$, what is the _worst recorded function value_ of algorithm gHC (greedy Hill-Climber)? What is the _worst reached function value_ then? and what is the difference between those two values?\n",
        "    * For $100$D and function $f23$, what are the mean, median, standard deviation and _expected running time_ (ERT) of algorithm $(1+1)$ fGA (fast GA) at target function value $-1$? What is the ERT and success rate of this algorithm at its best achieved function value?\n",
        "    * For $625$D and function $f4$, what is the running time sample of algorithm RLS (Randomized Local Search) at its best achieved function value?\n",
        "  \n",
        "3. Next, please select the **Probability Mass Function** subsection, and use it to answer the following questions:\n",
        "\n",
        "    * For function $f17$ in $625D$, please create a figure showing histograms of the number of function evaluations needed to reach a target value of $400$ for all variants of the $(1+10)$ EA-variants. Please ensure that the bin sizes allow for an easy visual comparison among the different subplots. Please download the resulting figure in svg-format.\n",
        "    * Using the same function and algorithms, please create a plot showing the probability mass functions of the required number of function evaluations needed to reach a target of $450$. Please make sure that the individual runtime samples are shown clearly in the figure, scale the y-axis logarithmically and download the resulting plot as a pdf.\n",
        "  \n",
        "4. Please navigate thought **Fixed-Budget Results** $\\rightarrow$ **Single Function** $\\rightarrow$ **Data Summary**. Please try to solve the following questions using the functionality available in this tab:\n",
        "\n",
        "    * What is the budget used for the $(30,30)$ vGA on function $f5$ in $100D$?\n",
        "    * For function $f19$ on $100D$, what is the mean target hit for the RLS algorithm after $100$ function evaluations? How does this compare to the other algorithms? Download a csv-table showing this comparison.\n",
        "    * For function $f2$ on $16D$, how many algorithms have hit a mean target value of $16$ after $1000$ function evaluations? Try to download a table showing only the data for these algorithms in a tex-format.\n",
        "    * For function $f17$ on $100D$, what are the individual target values hit after $1$, $15\\,001$, $30\\,001$, $45\\,001$ and $60\\,001$ function evaluations respectively. Please download a table showing this information.\n"
      ]
    }
  ]
}