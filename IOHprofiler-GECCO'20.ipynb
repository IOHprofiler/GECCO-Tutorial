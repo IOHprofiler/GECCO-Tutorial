{
  "nbformat": 4,
  "nbformat_minor": 0,
  "metadata": {
    "kernelspec": {
      "display_name": "Python 3",
      "language": "python",
      "name": "python3"
    },
    "language_info": {
      "codemirror_mode": {
        "name": "ipython",
        "version": 3
      },
      "file_extension": ".py",
      "mimetype": "text/x-python",
      "name": "python",
      "nbconvert_exporter": "python",
      "pygments_lexer": "ipython3",
      "version": "3.6.9"
    },
    "colab": {
      "name": "IOHprofiler-GECCO2020.ipynb",
      "provenance": [],
      "collapsed_sections": [],
      "toc_visible": true
    }
  },
  "cells": [
    {
      "cell_type": "markdown",
      "metadata": {
        "id": "-53-PF4qBMFH",
        "colab_type": "text"
      },
      "source": [
        "# IOHprofiler Hands-on Session - GECCO '20 Tutorial \n",
        "\n",
        "[Hao Wang](https://www.lip6.fr/actualite/personnes-fiche.php?ident=D2381), [Diederick Vermetten](https://www.universiteitleiden.nl/en/staffmembers/diederick-vermetten), [Furong Ye](https://www.universiteitleiden.nl/en/staffmembers/furong-ye), [Carola Doerr](https://webia.lip6.fr/~doerr/), [Ofer M. Shir](https://ofersh.github.io/telhai/), and [Thomas Bäck](https://www.universiteitleiden.nl/en/staffmembers/thomas-back)\n",
        "\n",
        "<br>\n",
        "\n",
        "\n",
        "The plan is to guide you through the basica usage of **IOHexperimenter** and **IOHanalyzer**."
      ]
    },
    {
      "cell_type": "markdown",
      "metadata": {
        "id": "4z2X-WeeF3Nn",
        "colab_type": "text"
      },
      "source": [
        "## General Information\n",
        "\n",
        "* __Wiki page__: [https://iohprofiler.github.io](https://iohprofiler.github.io)\n",
        "* __General Documentation__: [https://arxiv.org/abs/1810.05281](https://arxiv.org/abs/1810.05281)\n",
        "* __IOHanalyzer Documentation__: [https://arxiv.org/abs/2007.03953](https://arxiv.org/abs/2007.03953)\n",
        "* __IOHanalyzer Online Service__: [http://iohprofiler.liacs.nl](http://iohprofiler.liacs.nl)\n",
        "* __Temporary IOHanalyzer server__ (Google Cloud): [http://35.241.182.66]( http://35.241.182.66) \n"
      ]
    },
    {
      "cell_type": "markdown",
      "metadata": {
        "id": "2D2oIbfDF8Z5",
        "colab_type": "text"
      },
      "source": [
        "## Part-I: **IOHexperimenter** (Python Interface)"
      ]
    },
    {
      "cell_type": "markdown",
      "metadata": {
        "id": "b08lVuG0CDNq",
        "colab_type": "text"
      },
      "source": [
        "To get started, we need to install the `IOHexperimenter` package from `pip` (you only need to run the cell below only once): "
      ]
    },
    {
      "cell_type": "code",
      "metadata": {
        "id": "pDbCkjopB2h7",
        "colab_type": "code",
        "colab": {
          "base_uri": "https://localhost:8080/",
          "height": 122
        },
        "outputId": "c99b063a-0f62-4e8d-b80a-009339f4cc91"
      },
      "source": [
        "!pip install IOHexperimenter"
      ],
      "execution_count": null,
      "outputs": [
        {
          "output_type": "stream",
          "text": [
            "Collecting IOHexperimenter\n",
            "\u001b[?25l  Downloading https://files.pythonhosted.org/packages/d1/8f/d302d166bd8bb8476885e8b41806efaf04b35e88bb48a5d4a4ebcabb115f/IOHexperimenter-0.2.2-py3-none-any.whl (1.0MB)\n",
            "\u001b[K     |████████████████████████████████| 1.0MB 2.8MB/s \n",
            "\u001b[?25hInstalling collected packages: IOHexperimenter\n",
            "Successfully installed IOHexperimenter-0.2.2\n"
          ],
          "name": "stdout"
        }
      ]
    },
    {
      "cell_type": "code",
      "metadata": {
        "id": "lLgAKcCjlKA2",
        "colab_type": "code",
        "colab": {}
      },
      "source": [
        "!rm -rf data/"
      ],
      "execution_count": null,
      "outputs": []
    },
    {
      "cell_type": "markdown",
      "metadata": {
        "id": "tjWoLKIjDYwU",
        "colab_type": "text"
      },
      "source": [
        "Importing the package:\n"
      ]
    },
    {
      "cell_type": "code",
      "metadata": {
        "id": "7kUfanOxBJIG",
        "colab_type": "code",
        "colab": {}
      },
      "source": [
        "# Import the IOH_function class\n",
        "from IOHexperimenter import IOH_function"
      ],
      "execution_count": null,
      "outputs": []
    },
    {
      "cell_type": "markdown",
      "metadata": {
        "id": "d5zLmwLZDctp",
        "colab_type": "text"
      },
      "source": [
        "Checking the `docstring` of `IOH_function`:"
      ]
    },
    {
      "cell_type": "code",
      "metadata": {
        "id": "lKoFm0siBJIK",
        "colab_type": "code",
        "colab": {}
      },
      "source": [
        "# View docstring of IOH_function\n",
        "?IOH_function"
      ],
      "execution_count": null,
      "outputs": []
    },
    {
      "cell_type": "markdown",
      "metadata": {
        "id": "JXRbchk1Drao",
        "colab_type": "text"
      },
      "source": [
        "Yes, you could directly use the well-known [BBOB problem set](https://github.com/numbbo/coco):"
      ]
    },
    {
      "cell_type": "code",
      "metadata": {
        "id": "VrDhLQ4HBJIN",
        "colab_type": "code",
        "colab": {}
      },
      "source": [
        "# Create a function object, either by giving the function id from within the suite\n",
        "f = IOH_function(fid = 7, dim = 5, iid = 1, suite = 'BBOB')"
      ],
      "execution_count": null,
      "outputs": []
    },
    {
      "cell_type": "code",
      "metadata": {
        "id": "d6VBBMlWBJIQ",
        "colab_type": "code",
        "colab": {}
      },
      "source": [
        "# Or by giving the function name\n",
        "f2 = IOH_function(fid = \"Sphere\", dim = 5, iid = 1)"
      ],
      "execution_count": null,
      "outputs": []
    },
    {
      "cell_type": "code",
      "metadata": {
        "id": "5_8VICUFBJIS",
        "colab_type": "code",
        "colab": {
          "base_uri": "https://localhost:8080/",
          "height": 34
        },
        "outputId": "f831c527-5219-49fc-ad66-1393cb6523cb"
      },
      "source": [
        "# Acces properties of the function\n",
        "f.number_of_variables"
      ],
      "execution_count": null,
      "outputs": [
        {
          "output_type": "execute_result",
          "data": {
            "text/plain": [
              "5"
            ]
          },
          "metadata": {
            "tags": []
          },
          "execution_count": 7
        }
      ]
    },
    {
      "cell_type": "markdown",
      "metadata": {
        "id": "jtehXyflEfCO",
        "colab_type": "text"
      },
      "source": [
        "The search domain is set to $[-5, 5]^d$ by default, as suggested in BBOB."
      ]
    },
    {
      "cell_type": "code",
      "metadata": {
        "id": "nBtN9IHdBJIV",
        "colab_type": "code",
        "colab": {
          "base_uri": "https://localhost:8080/",
          "height": 34
        },
        "outputId": "4d31bf2b-e76e-42ba-c2a6-4fd8f3499065"
      },
      "source": [
        "f.lowerbound, f.upperbound"
      ],
      "execution_count": null,
      "outputs": [
        {
          "output_type": "execute_result",
          "data": {
            "text/plain": [
              "(array([-5., -5., -5., -5., -5.]), array([5., 5., 5., 5., 5.]))"
            ]
          },
          "metadata": {
            "tags": []
          },
          "execution_count": 8
        }
      ]
    },
    {
      "cell_type": "code",
      "metadata": {
        "id": "lrgJpCzNBJIX",
        "colab_type": "code",
        "colab": {
          "base_uri": "https://localhost:8080/",
          "height": 34
        },
        "outputId": "a14db3d5-e52b-4f4b-a705-c1fc4390eadb"
      },
      "source": [
        "f.final_target_hit"
      ],
      "execution_count": null,
      "outputs": [
        {
          "output_type": "execute_result",
          "data": {
            "text/plain": [
              "False"
            ]
          },
          "metadata": {
            "tags": []
          },
          "execution_count": 10
        }
      ]
    },
    {
      "cell_type": "code",
      "metadata": {
        "id": "frOHPKYABJIa",
        "colab_type": "code",
        "colab": {
          "base_uri": "https://localhost:8080/",
          "height": 34
        },
        "outputId": "e7aeaacf-147d-40c8-b709-fe692f709a1c"
      },
      "source": [
        "# Evaluate the origin...\n",
        "f([0,0,0,0,0])"
      ],
      "execution_count": null,
      "outputs": [
        {
          "output_type": "execute_result",
          "data": {
            "text/plain": [
              "106.05513987471636"
            ]
          },
          "metadata": {
            "tags": []
          },
          "execution_count": 9
        }
      ]
    },
    {
      "cell_type": "markdown",
      "metadata": {
        "id": "ZW7YOcR0BJId",
        "colab_type": "text"
      },
      "source": [
        "### Running an algorithm"
      ]
    },
    {
      "cell_type": "markdown",
      "metadata": {
        "id": "jMTyqvNuBJId",
        "colab_type": "text"
      },
      "source": [
        "A simple random-search example wich accepts an argument of class IOH_function."
      ]
    },
    {
      "cell_type": "code",
      "metadata": {
        "id": "HA8lmTQUBJIe",
        "colab_type": "code",
        "colab": {}
      },
      "source": [
        "import numpy as np"
      ],
      "execution_count": null,
      "outputs": []
    },
    {
      "cell_type": "code",
      "metadata": {
        "id": "CXiHNDs9BJIf",
        "colab_type": "code",
        "colab": {}
      },
      "source": [
        "def random_search(func, param_1 = None, budget = None):\n",
        "    if budget is None:\n",
        "        budget = int(func.number_of_variables * 1e4)\n",
        "\n",
        "    f_opt = np.Inf\n",
        "    x_opt = None\n",
        "\n",
        "    for i in range(budget):\n",
        "        # sampling a new point u.a.r. in the search domain\n",
        "        x = np.random.uniform(func.lowerbound, func.upperbound)\n",
        "        f = func(x)\n",
        "        if f < f_opt:\n",
        "            f_opt = f\n",
        "            x_opt = x\n",
        "    return f_opt, x_opt"
      ],
      "execution_count": null,
      "outputs": []
    },
    {
      "cell_type": "markdown",
      "metadata": {
        "id": "AQdvv1USBJIh",
        "colab_type": "text"
      },
      "source": [
        "To record data, we need to add a logger to the problem"
      ]
    },
    {
      "cell_type": "code",
      "metadata": {
        "id": "MAz0slJ4BJIi",
        "colab_type": "code",
        "colab": {}
      },
      "source": [
        "from IOHexperimenter import IOH_logger"
      ],
      "execution_count": null,
      "outputs": []
    },
    {
      "cell_type": "code",
      "metadata": {
        "id": "y-CjWkWfBJIk",
        "colab_type": "code",
        "colab": {}
      },
      "source": [
        "?IOH_logger"
      ],
      "execution_count": null,
      "outputs": []
    },
    {
      "cell_type": "code",
      "metadata": {
        "id": "Kays2wL6BJIm",
        "colab_type": "code",
        "colab": {}
      },
      "source": [
        "logger = IOH_logger(location = \"data\", foldername = \"run\", \n",
        "                    name = \"random_search\", \n",
        "                    info = \"test of IOHexperimenter in python\")"
      ],
      "execution_count": null,
      "outputs": []
    },
    {
      "cell_type": "markdown",
      "metadata": {
        "id": "NUKkK8atBJIo",
        "colab_type": "text"
      },
      "source": [
        "This can then be attached to the problem"
      ]
    },
    {
      "cell_type": "code",
      "metadata": {
        "id": "3e-dfnTsBJIo",
        "colab_type": "code",
        "colab": {}
      },
      "source": [
        "f.add_logger(logger)"
      ],
      "execution_count": null,
      "outputs": []
    },
    {
      "cell_type": "markdown",
      "metadata": {
        "id": "Gb4bK2aLBJIq",
        "colab_type": "text"
      },
      "source": [
        "Now, we can run the algorithm and store data:"
      ]
    },
    {
      "cell_type": "code",
      "metadata": {
        "id": "eiUJgKcjBJIr",
        "colab_type": "code",
        "colab": {
          "base_uri": "https://localhost:8080/",
          "height": 51
        },
        "outputId": "710b76d9-4165-46ab-dffe-0235837ef701"
      },
      "source": [
        "random_search(f)"
      ],
      "execution_count": null,
      "outputs": [
        {
          "output_type": "execute_result",
          "data": {
            "text/plain": [
              "(96.80977133809382,\n",
              " array([-0.94501111,  1.64556853, -0.72068013,  0.47974565,  0.43588387]))"
            ]
          },
          "metadata": {
            "tags": []
          },
          "execution_count": 16
        }
      ]
    },
    {
      "cell_type": "markdown",
      "metadata": {
        "id": "iRI2_XT4BJIt",
        "colab_type": "text"
      },
      "source": [
        "To ensure all data is written, we should clear the logger after running our experiments:"
      ]
    },
    {
      "cell_type": "code",
      "metadata": {
        "id": "WchH8wJJBJIt",
        "colab_type": "code",
        "colab": {}
      },
      "source": [
        "f.clear_logger()"
      ],
      "execution_count": null,
      "outputs": []
    },
    {
      "cell_type": "markdown",
      "metadata": {
        "id": "K03AnQU4IdpI",
        "colab_type": "text"
      },
      "source": [
        "And our benchmark data is already in place:"
      ]
    },
    {
      "cell_type": "code",
      "metadata": {
        "id": "Cqw3U4ssISCL",
        "colab_type": "code",
        "colab": {
          "base_uri": "https://localhost:8080/",
          "height": 360
        },
        "outputId": "c1197311-7302-47c9-b4fe-94d95afae699"
      },
      "source": [
        "!ls -lha data/\n",
        "!echo\n",
        "!cat data/run/IOHprofiler_f7_Step_Ellipsoid.info\n",
        "!echo\n",
        "!echo\n",
        "!head -n 10 data/run/data_f7_Step_Ellipsoid/IOHprofiler_f7_DIM5.dat"
      ],
      "execution_count": null,
      "outputs": [
        {
          "output_type": "stream",
          "text": [
            "total 12K\n",
            "drwxr-xr-x 3 root root 4.0K Jul  9 22:34 .\n",
            "drwxr-xr-x 1 root root 4.0K Jul  9 22:34 ..\n",
            "drwx------ 3 root root 4.0K Jul  9 22:34 run\n",
            "\n",
            "suite = \"No suite\", funcId = 7, funcName = \"Step_Ellipsoid\", DIM = 5, maximization = \"F\", algId = \"random_search\", algInfo = \"test of IOHexperimenter in python\"\n",
            "%\n",
            "data_f7_Step_Ellipsoid/IOHprofiler_f7_DIM5.dat, 1:19483|3.86977\n",
            "\n",
            "\"function evaluation\" \"current f(x)\" \"best-so-far f(x)\" \"current af(x)+b\"  \"best af(x)+b\"\n",
            "2 396.942 13.1151 489.882 106.055\n",
            "4 111.014 13.1151 203.954 106.055\n",
            "9 55.6398 13.1151 148.58 106.055\n",
            "14 37.0123 13.1151 129.952 106.055\n",
            "120 33.7621 13.1151 126.702 106.055\n",
            "143 25.0285 13.1151 117.969 106.055\n",
            "182 20.7389 13.1151 113.679 106.055\n",
            "691 17.8285 13.1151 110.769 106.055\n",
            "1009 17.4468 13.1151 110.387 106.055\n"
          ],
          "name": "stdout"
        }
      ]
    },
    {
      "cell_type": "markdown",
      "metadata": {
        "id": "PqI3CyRpKeck",
        "colab_type": "text"
      },
      "source": [
        "### Tracking Dynamic Parameters"
      ]
    },
    {
      "cell_type": "markdown",
      "metadata": {
        "id": "a5cZ3FRUBJIw",
        "colab_type": "text"
      },
      "source": [
        "If we want to track parameters of the algorithm, we need to slightly restructure it by turning it into a class, where the variables we want totrack are properties thereof:"
      ]
    },
    {
      "cell_type": "code",
      "metadata": {
        "id": "qMcKbEoRBJIw",
        "colab_type": "code",
        "colab": {}
      },
      "source": [
        "class random_search_class(object):\n",
        "    def __init__(self, budget):\n",
        "        self.budget = int(budget)\n",
        "        self.f_opt = np.Inf\n",
        "        self.x_opt = None\n",
        "\n",
        "    def __call__(self, func):\n",
        "        for i in range(self.budget):\n",
        "            x = np.random.uniform(func.lowerbound, func.upperbound)\n",
        "            f = func(x)\n",
        "            if f < self.f_opt:\n",
        "                self.f_opt = f\n",
        "                self.x_opt = x\n",
        "        return self.f_opt, self.x_opt\n",
        "    \n",
        "    # A mockup internal parameter to track\n",
        "    @property\n",
        "    def param_rate(self):\n",
        "        return np.random.randint(100)\n",
        "\n",
        "\n",
        "# create the optimizer object\n",
        "opt = random_search_class(1e4)"
      ],
      "execution_count": null,
      "outputs": []
    },
    {
      "cell_type": "markdown",
      "metadata": {
        "id": "Gl0Xlf2cBJIy",
        "colab_type": "text"
      },
      "source": [
        "We could then use the function `logger.track_parameters` of the logger to register the parameter to be tracked"
      ]
    },
    {
      "cell_type": "code",
      "metadata": {
        "id": "E5SiSqgJNes1",
        "colab_type": "code",
        "colab": {}
      },
      "source": [
        "logger = IOH_logger(location = \"data\", foldername = \"parameter-tracking\", \n",
        "                    name = \"random_search\", \n",
        "                    info = \"test of IOHexperimenter in python\")\n",
        "\n",
        "logger.track_parameters(algorithm = opt, parameters = 'param_rate')\n",
        "f.add_logger(logger) # IMPORTANT! don't forget to attach the logger to the test function again.."
      ],
      "execution_count": null,
      "outputs": []
    },
    {
      "cell_type": "code",
      "metadata": {
        "id": "b41UXvWGPKOJ",
        "colab_type": "code",
        "colab": {}
      },
      "source": [
        "opt(f)\n",
        "f.clear_logger()  # Remember to flush the data to files.."
      ],
      "execution_count": null,
      "outputs": []
    },
    {
      "cell_type": "markdown",
      "metadata": {
        "id": "iGSZgKQMRI6b",
        "colab_type": "text"
      },
      "source": [
        "You could see now there is an extra column \"`param_rate`\" in the raw data file."
      ]
    },
    {
      "cell_type": "code",
      "metadata": {
        "id": "FRwG80kUPWId",
        "colab_type": "code",
        "colab": {
          "base_uri": "https://localhost:8080/",
          "height": 377
        },
        "outputId": "c8588611-e3e6-41ca-f9c0-5e5b71b1f618"
      },
      "source": [
        "!ls -lha data/\n",
        "!echo\n",
        "!cat data/parameter-tracking/IOHprofiler_f7_Step_Ellipsoid.info\n",
        "!echo\n",
        "!echo\n",
        "!head -n 10 data/parameter-tracking/data_f7_Step_Ellipsoid/IOHprofiler_f7_DIM5.dat"
      ],
      "execution_count": null,
      "outputs": [
        {
          "output_type": "stream",
          "text": [
            "total 16K\n",
            "drwxr-xr-x 4 root root 4.0K Jul  9 22:39 .\n",
            "drwxr-xr-x 1 root root 4.0K Jul  9 22:34 ..\n",
            "drwx------ 3 root root 4.0K Jul  9 22:40 parameter-tracking\n",
            "drwx------ 3 root root 4.0K Jul  9 22:34 run\n",
            "\n",
            "suite = \"No suite\", funcId = 7, funcName = \"Step_Ellipsoid\", DIM = 5, maximization = \"F\", algId = \"random_search\", algInfo = \"test of IOHexperimenter in python\"\n",
            "%\n",
            "data_f7_Step_Ellipsoid/IOHprofiler_f7_DIM5.dat, 1:56072|4.84427\n",
            "\n",
            "\"function evaluation\" \"current f(x)\" \"best-so-far f(x)\" \"current af(x)+b\"  \"best af(x)+b\" \"param_rate\"\n",
            "50002 565.762 3.86977 658.702 96.8098 53\n",
            "50005 140.383 3.86977 233.323 96.8098 87\n",
            "50007 79.1382 3.86977 172.078 96.8098 26\n",
            "50010 73.9725 3.86977 166.912 96.8098 14\n",
            "50012 16.1989 3.86977 109.139 96.8098 24\n",
            "50952 13.1446 3.86977 106.085 96.8098 12\n",
            "51815 7.4909 3.86977 100.431 96.8098 80\n",
            "53904 5.85812 3.86977 98.7981 96.8098 94\n",
            "56072 4.84427 3.86977 97.7843 96.8098 17\n"
          ],
          "name": "stdout"
        }
      ]
    },
    {
      "cell_type": "code",
      "metadata": {
        "id": "XbJAkXKQBJIz",
        "colab_type": "code",
        "colab": {}
      },
      "source": [
        "# it is always good to check the docstring...\n",
        "?logger.track_parameters"
      ],
      "execution_count": null,
      "outputs": []
    },
    {
      "cell_type": "markdown",
      "metadata": {
        "id": "tPRueE_QOD2C",
        "colab_type": "text"
      },
      "source": [
        "### Using the `IOHexperimenter` object"
      ]
    },
    {
      "cell_type": "markdown",
      "metadata": {
        "id": "Hkf4crYCBJI0",
        "colab_type": "text"
      },
      "source": [
        "Alternatively, we can use the `IOHexperimenter` class to easily run the benchmarking in multiple functions, and to specify which parameters to track."
      ]
    },
    {
      "cell_type": "code",
      "metadata": {
        "id": "m3vTUnr9BJI1",
        "colab_type": "code",
        "colab": {}
      },
      "source": [
        "from IOHexperimenter import IOHexperimenter"
      ],
      "execution_count": null,
      "outputs": []
    },
    {
      "cell_type": "code",
      "metadata": {
        "id": "qRiyVIbqBJI3",
        "colab_type": "code",
        "colab": {}
      },
      "source": [
        "?IOHexperimenter"
      ],
      "execution_count": null,
      "outputs": []
    },
    {
      "cell_type": "markdown",
      "metadata": {
        "id": "M2iPgDWQBJI4",
        "colab_type": "text"
      },
      "source": [
        "This can be initialized to a suite (`PBO` or `BBOB` are available) by providing lists of function ids (or names), dimensions, instance ids, and a number of independent repetitions as follows:"
      ]
    },
    {
      "cell_type": "code",
      "metadata": {
        "id": "rDxYYMrSBJI5",
        "colab_type": "code",
        "colab": {}
      },
      "source": [
        "exp = IOHexperimenter()\n",
        "exp.initialize_BBOB(fids = [1,2], dims = [5], iids = [1,2], repetitions = 2)"
      ],
      "execution_count": null,
      "outputs": []
    },
    {
      "cell_type": "markdown",
      "metadata": {
        "id": "lTzMAvKTBJI7",
        "colab_type": "text"
      },
      "source": [
        "There is also the option to provide a set of standard `python` functions to the experimenter object:"
      ]
    },
    {
      "cell_type": "code",
      "metadata": {
        "id": "b5KFFx01BJI7",
        "colab_type": "code",
        "colab": {}
      },
      "source": [
        "?exp.initialize_custom"
      ],
      "execution_count": null,
      "outputs": []
    },
    {
      "cell_type": "markdown",
      "metadata": {
        "id": "wonQuLHjBJI9",
        "colab_type": "text"
      },
      "source": [
        "For now, we stick with the BBOB suite. We can set up the logging as follows:"
      ]
    },
    {
      "cell_type": "code",
      "metadata": {
        "id": "Qo8qhFOoBJJA",
        "colab_type": "code",
        "colab": {}
      },
      "source": [
        "exp.set_logger_location(location = \"data_test\", foldername = \"run\")"
      ],
      "execution_count": null,
      "outputs": []
    },
    {
      "cell_type": "markdown",
      "metadata": {
        "id": "df5L5AZHBJJE",
        "colab_type": "text"
      },
      "source": [
        "The algorithm we want to run has property `param_rate`, so we can enable the tracking using the function below:"
      ]
    },
    {
      "cell_type": "code",
      "metadata": {
        "id": "d5HpbLBHBJJE",
        "colab_type": "code",
        "colab": {}
      },
      "source": [
        "exp.set_parameter_tracking(\"param_rate\")"
      ],
      "execution_count": null,
      "outputs": []
    },
    {
      "cell_type": "code",
      "metadata": {
        "id": "A88nZK4oBJJC",
        "colab_type": "code",
        "colab": {}
      },
      "source": [
        "# it is always good to check the docstring...\n",
        "?exp.set_parameter_tracking"
      ],
      "execution_count": null,
      "outputs": []
    },
    {
      "cell_type": "markdown",
      "metadata": {
        "id": "oPBOA7b5BJJG",
        "colab_type": "text"
      },
      "source": [
        "We can parallel the experimentation if the sequential execution is taking way too long.."
      ]
    },
    {
      "cell_type": "code",
      "metadata": {
        "id": "JJC509EABJJG",
        "colab_type": "code",
        "colab": {}
      },
      "source": [
        "?exp.set_parallel"
      ],
      "execution_count": null,
      "outputs": []
    },
    {
      "cell_type": "markdown",
      "metadata": {
        "id": "rvWA0UVTSWT4",
        "colab_type": "text"
      },
      "source": [
        "The data storage settings are also customizable:"
      ]
    },
    {
      "cell_type": "code",
      "metadata": {
        "id": "cGjKYJZKBJJJ",
        "colab_type": "code",
        "colab": {}
      },
      "source": [
        "?exp.set_logger_options"
      ],
      "execution_count": null,
      "outputs": []
    },
    {
      "cell_type": "markdown",
      "metadata": {
        "id": "AILU3_5CBJJL",
        "colab_type": "text"
      },
      "source": [
        "Finally, we can run the experiment by simply providing the experimenter object with a list of algorithms to run"
      ]
    },
    {
      "cell_type": "code",
      "metadata": {
        "id": "A12Neb42BJJL",
        "colab_type": "code",
        "colab": {
          "base_uri": "https://localhost:8080/",
          "height": 181
        },
        "outputId": "a64e70e0-f071-414d-b934-7982a7f3288c"
      },
      "source": [
        "# just a mockup code. In reality, of course you want to add multiple different algorithms..\n",
        "exp([opt(1000)])"
      ],
      "execution_count": null,
      "outputs": [
        {
          "output_type": "error",
          "ename": "NameError",
          "evalue": "ignored",
          "traceback": [
            "\u001b[0;31m---------------------------------------------------------------------------\u001b[0m",
            "\u001b[0;31mNameError\u001b[0m                                 Traceback (most recent call last)",
            "\u001b[0;32m<ipython-input-1-fb67f24619d3>\u001b[0m in \u001b[0;36m<module>\u001b[0;34m()\u001b[0m\n\u001b[1;32m      1\u001b[0m \u001b[0;31m# just a mockup code. In reality, of course you want to add multiple different algorithms..\u001b[0m\u001b[0;34m\u001b[0m\u001b[0;34m\u001b[0m\u001b[0;34m\u001b[0m\u001b[0m\n\u001b[0;32m----> 2\u001b[0;31m \u001b[0mexp\u001b[0m\u001b[0;34m(\u001b[0m\u001b[0;34m[\u001b[0m\u001b[0mopt\u001b[0m\u001b[0;34m(\u001b[0m\u001b[0;36m1000\u001b[0m\u001b[0;34m)\u001b[0m\u001b[0;34m]\u001b[0m\u001b[0;34m)\u001b[0m\u001b[0;34m\u001b[0m\u001b[0;34m\u001b[0m\u001b[0m\n\u001b[0m",
            "\u001b[0;31mNameError\u001b[0m: name 'exp' is not defined"
          ]
        }
      ]
    },
    {
      "cell_type": "markdown",
      "metadata": {
        "id": "O9CoQfuhToEw",
        "colab_type": "text"
      },
      "source": [
        "## Part-II: Use Case of **IOHanalyzer** "
      ]
    },
    {
      "cell_type": "markdown",
      "metadata": {
        "id": "n3UdNWWmUBAF",
        "colab_type": "text"
      },
      "source": [
        "We have to options to use the analyzer: \n",
        "\n",
        "* to use the online serive directly: [http://35.241.182.66](http://35.241.182.66) (the data sets are going to use is already uploaded here), which is hosted on Google Cloud exclusively for this session (you do not recommend to visit [http://iohprofiler.liacs.nl/](http://iohprofiler.liacs.nl/) since this is hosted mererly on a single-CPU machine..)\n",
        "* to install it locally on your machine:\n",
        "  1. You need to install `R` first. Please download the correct installation file accorinding to your operating system (Windows, MacOS, Linux..):   [https://cran.r-project.org/](https://cran.r-project.org/)\n",
        "  2. After installation, please start a `R` console and install the IOHanalzyer package by: \n",
        "  ```{r, eval = FALSE}\n",
        "  R> install.packages('IOHanalzyer')\n",
        "  ```\n",
        "  3.Then you could start the GUI (grahical user interface) using the following command (a new tab should be open in your browser automatiocally):\n",
        "  ```{r, eval = FALSE}\n",
        "  R> runServer()\n",
        "  ```\n",
        "  4. For the hands-on session, some example data sets can be downloaded from here: [https://github.com/IOHprofiler/IOHdata](https://github.com/IOHprofiler/IOHdata). Please create the folder called `repository` (`~/repository` on Linux and MacOS and `C:\\Users\\username\\repository`) in your home directory and unbzip the data set into it (IOHanalyzer will scan this folder later).\n",
        "  \n",
        "### Exemplary Usage\n",
        "\n",
        "Throughout this exercise, a data set called `2019gecco-ins1-11run` will be used and is already hosted for the online version. For the local usage, it can be downloaded from [(https://github.com/IOHprofiler/IOHdata](https://github.com/IOHprofiler/IOHdata):\n",
        "\n",
        "1. Please navigate to the **Data Upload** section and select the required data set in **Load Data from Repository** box. \n",
        "\n",
        "2. Now please navigate thought **Fixed-Target Results** $\\rightarrow$ **Single Function** $\\rightarrow$ **Data Summary**. Please try to figure out the following question using the table provided in this subsection:\n",
        "\n",
        "    * What is the largest observed budget value across all algorithms in $625$D on function $f1$?\n",
        "    * For $625$D and function $f19$, what is the number of runs that algorithm $(1+1) \\text{ EA}_{>0}$ hits its best function value?\n",
        "    * For $64$D and function $f21$, what is the _worst recorded function value_ of algorithm gHC (greedy Hill-Climber)? What is the _worst reached function value_ then? and what is the difference between those two values?\n",
        "    * For $100$D and function $f23$, what are the mean, median, standard deviation and _expected running time_ (ERT) of algorithm $(1+1)$ fGA (fast GA) at target function value $-1$? What is the ERT and success rate of this algorithm at its best achieved function value?\n",
        "    * For $625$D and function $f4$, what is the running time sample of algorithm RLS (Randomized Local Search) at its best achieved function value?\n",
        "  \n",
        "3. Next, please select the **Probability Mass Function** subsection, and use it to answer the following questions:\n",
        "\n",
        "    * For function $f17$ in $625D$, please create a figure showing histograms of the number of function evaluations needed to reach a target value of $400$ for all variants of the $(1+10)$ EA-variants. Please ensure that the bin sizes allow for an easy visual comparison among the different subplots. Please download the resulting figure in svg-format.\n",
        "    * Using the same function and algorithms, please create a plot showing the probability mass functions of the required number of function evaluations needed to reach a target of $450$. Please make sure that the individual runtime samples are shown clearly in the figure, scale the y-axis logarithmically and download the resulting plot as a pdf.\n",
        "  \n",
        "4. Please navigate thought **Fixed-Budget Results** $\\rightarrow$ **Single Function** $\\rightarrow$ **Data Summary**. Please try to solve the following questions using the functionality available in this tab:\n",
        "\n",
        "    * What is the budget used for the $(30,30)$ vGA on function $f5$ in $100D$?\n",
        "    * For function $f19$ on $100D$, what is the mean target hit for the RLS algorithm after $100$ function evaluations? How does this compare to the other algorithms? Download a csv-table showing this comparison.\n",
        "    * For function $f2$ on $16D$, how many algorithms have hit a mean target value of $16$ after $1000$ function evaluations? Try to download a table showing only the data for these algorithms in a tex-format.\n",
        "    * For function $f17$ on $100D$, what are the individual target values hit after $1$, $15\\,001$, $30\\,001$, $45\\,001$ and $60\\,001$ function evaluations respectively. Please download a table showing this information.\n"
      ]
    }
  ]
}